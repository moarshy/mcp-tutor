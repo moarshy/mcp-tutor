{
 "cells": [
  {
   "cell_type": "code",
   "execution_count": 1,
   "metadata": {},
   "outputs": [],
   "source": [
    "import sys\n",
    "sys.path.append('/Users/arshath/play/naptha/tutor')\n",
    "\n",
    "from course_content_agent.models import (\n",
    "    DocumentType,\n",
    "    ComplexityLevel,\n",
    "    DocumentMetadata,\n",
    "    DocumentNode,\n",
    "    DocumentTree,\n",
    "    LearningModule,\n",
    "    GroupedLearningPath,\n",
    "    ModuleContent,\n",
    ")\n",
    "from course_content_agent.signatures import (\n",
    "    DocumentParser,\n",
    "    DocumentClassifier,\n",
    "    CrossReferenceAnalyzer,\n",
    "    DocumentClusterer,\n",
    "    WelcomeMessageGenerator,\n",
    "    ModuleIntroGenerator,\n",
    "    ModuleSummaryGenerator,\n",
    "    AssessmentMetadataGenerator,\n",
    "    AssessmentContentGenerator,\n",
    "    CourseConclusionGenerator\n",
    ")\n",
    "\n",
    "from course_content_agent.modules import (\n",
    "    RepoManager,\n",
    "    DocumentParserModule,\n",
    "    CrossReferenceModule,\n",
    "    LearningPathGenerator,\n",
    "    CourseGenerator,\n",
    "    CourseExporter\n",
    ")\n",
    "from course_content_agent.main import CourseBuilder\n",
    "\n",
    "from pathlib import Path\n",
    "from datetime import datetime\n",
    "import hashlib"
   ]
  },
  {
   "cell_type": "code",
   "execution_count": 2,
   "metadata": {},
   "outputs": [
    {
     "name": "stdout",
     "output_type": "stream",
     "text": [
      "2025-06-29 13:44:54,459 | INFO | course_content_agent.main | Using 10 worker processes\n"
     ]
    }
   ],
   "source": [
    "CACHE_DIR = '/Users/arshath/play/naptha/tutor/.cache'\n",
    "\n",
    "repo_manager = RepoManager(CACHE_DIR)\n",
    "parser_module = DocumentParserModule()\n",
    "cross_ref_module = CrossReferenceModule()\n",
    "learning_path_module = LearningPathGenerator()\n",
    "course_generator = CourseGenerator()\n",
    "course_exporter = CourseExporter()\n",
    "course_builder = CourseBuilder(cache_dir=CACHE_DIR, max_workers=10)"
   ]
  },
  {
   "cell_type": "code",
   "execution_count": null,
   "metadata": {},
   "outputs": [],
   "source": [
    "repo_url = 'https://github.com/modelcontextprotocol/docs'\n",
    "include_folders = ['docs', 'tutorials', 'quickstart']\n",
    "overview_doc = \"architecture.mdx\"\n",
    "repo_path = repo_manager.clone_or_update_repo(repo_url)\n",
    "md_files = repo_manager.find_documentation_files(repo_path, include_folders=include_folders)\n",
    "len(md_files)"
   ]
  },
  {
   "cell_type": "code",
   "execution_count": 5,
   "metadata": {},
   "outputs": [],
   "source": [
    "# Initialize tree\n",
    "repo_name = Path(repo_url).name.replace('.git', '')\n",
    "tree = DocumentTree(\n",
    "    repo_url=repo_url,\n",
    "    repo_name=repo_name,\n",
    "    root_path=str(repo_path),\n",
    "    nodes={},\n",
    "    tree_structure={},\n",
    "    cross_references={},\n",
    "    last_updated=datetime.now(),\n",
    "    document_categories={},\n",
    "    complexity_distribution={},\n",
    "    learning_paths=[]\n",
    ")"
   ]
  },
  {
   "cell_type": "code",
   "execution_count": null,
   "metadata": {},
   "outputs": [],
   "source": [
    "processed_results = course_builder._process_documents_parallel(md_files, repo_path)\n",
    "error_count = course_builder._apply_llm_analysis_batch(processed_results, tree, batch_size=50)"
   ]
  },
  {
   "cell_type": "code",
   "execution_count": null,
   "metadata": {},
   "outputs": [],
   "source": [
    "# complexity --> maybe not useful, topics --> use only if metadata.headings is empty, prerequisites --> no need, primary_language --> no need\n",
    "tree.model_dump()['nodes']['docs/concepts/architecture.mdx']"
   ]
  },
  {
   "cell_type": "code",
   "execution_count": null,
   "metadata": {},
   "outputs": [],
   "source": []
  }
 ],
 "metadata": {
  "kernelspec": {
   "display_name": "base",
   "language": "python",
   "name": "python3"
  },
  "language_info": {
   "codemirror_mode": {
    "name": "ipython",
    "version": 3
   },
   "file_extension": ".py",
   "mimetype": "text/x-python",
   "name": "python",
   "nbconvert_exporter": "python",
   "pygments_lexer": "ipython3",
   "version": "3.11.11"
  }
 },
 "nbformat": 4,
 "nbformat_minor": 2
}
