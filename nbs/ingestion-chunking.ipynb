{
 "cells": [
  {
   "cell_type": "code",
   "execution_count": 1,
   "metadata": {},
   "outputs": [],
   "source": [
    "# !pip install unstructured langchain-text-splitters llama-index-core pydantic"
   ]
  },
  {
   "cell_type": "code",
   "execution_count": 2,
   "metadata": {},
   "outputs": [],
   "source": [
    "import sys\n",
    "sys.path.append(\"/Users/arshath/play/naptha/tutor\")"
   ]
  },
  {
   "cell_type": "code",
   "execution_count": 3,
   "metadata": {},
   "outputs": [],
   "source": [
    "from mcp_server.content_processing import GitHubRepositoryIngester"
   ]
  },
  {
   "cell_type": "code",
   "execution_count": 4,
   "metadata": {},
   "outputs": [
    {
     "data": {
      "text/plain": [
       "RepositoryContent(repo_url='https://github.com/modelcontextprotocol/docs', local_path=PosixPath('/var/folders/wx/bj4n9pyj10n74txq4mpt0j9h0000gn/T/repo_docs_24928'), branch='main', commit_hash='573dc60c2e7aab2605b29d0bf27194aa7b02e4fb', repo_name='docs')"
      ]
     },
     "execution_count": 4,
     "metadata": {},
     "output_type": "execute_result"
    }
   ],
   "source": [
    "ingester = GitHubRepositoryIngester()\n",
    "repo = await ingester.clone_repository(\"https://github.com/modelcontextprotocol/docs\")\n",
    "repo"
   ]
  },
  {
   "cell_type": "code",
   "execution_count": 5,
   "metadata": {},
   "outputs": [],
   "source": [
    "prepared_docs = await ingester.prepare_documents(repo)"
   ]
  },
  {
   "cell_type": "code",
   "execution_count": 6,
   "metadata": {},
   "outputs": [
    {
     "data": {
      "text/plain": [
       "26"
      ]
     },
     "execution_count": 6,
     "metadata": {},
     "output_type": "execute_result"
    }
   ],
   "source": [
    "len(prepared_docs)"
   ]
  },
  {
   "cell_type": "code",
   "execution_count": 8,
   "metadata": {},
   "outputs": [
    {
     "data": {
      "text/plain": [
       "{'id': 'doc_CLAUDE',\n",
       " 'doc_type': <DocumentType.DOCUMENTATION: 'documentation'>,\n",
       " 'title': 'MCP Documentation Guidelines',\n",
       " 'content': '# MCP Documentation Guidelines\\n\\n## Build Commands\\n- Preview changes locally: `mintlify dev`\\n- Deploy: Automatic after PR merge to main branch\\n\\n## Style Guidelines\\n- Follow existing MDX formatting and components\\n- Keep content clear, concise, and technically accurate\\n- Include practical code examples where appropriate\\n- Test all links and code samples before submitting\\n- Maintain consistent structure with existing documentation\\n- When documenting CLI commands, use two-line format with the prompt on a separate line: `$ claude` followed by `> /command`\\n- Use appropriate headings: \"When to use\", \"Steps\", and \"Tips\" for tutorials\\n- Branch naming convention: prefix with \"ashwin/\" (e.g., \"ashwin/add-mcp-cli-docs\")\\n\\n## File Organization\\n- Place new pages in appropriate sections (concepts, tutorials, etc.)\\n- Update docs.json when adding new pages\\n- Follow existing file naming conventions (kebab-case.mdx)\\n- Include proper frontmatter in MDX files\\n\\n## Documentation Standards\\n- Prioritize user understanding over technical completeness\\n- Document both basic syntax and concrete examples\\n- Structure command documentation with clear formatting\\n- For image analysis examples, use quotes: `$ claude \"Analyze this image: /path/to/image.png\"`',\n",
       " 'source_paths': ['CLAUDE.md'],\n",
       " 'tool_key': 'CLAUDE',\n",
       " 'description': 'Documentation: MCP Documentation Guidelines',\n",
       " 'created_at': datetime.datetime(2025, 6, 26, 10, 46, 50, 63057)}"
      ]
     },
     "execution_count": 8,
     "metadata": {},
     "output_type": "execute_result"
    }
   ],
   "source": [
    "prepared_docs[1].model_dump()"
   ]
  },
  {
   "cell_type": "code",
   "execution_count": null,
   "metadata": {},
   "outputs": [],
   "source": []
  }
 ],
 "metadata": {
  "kernelspec": {
   "display_name": "base",
   "language": "python",
   "name": "python3"
  },
  "language_info": {
   "codemirror_mode": {
    "name": "ipython",
    "version": 3
   },
   "file_extension": ".py",
   "mimetype": "text/x-python",
   "name": "python",
   "nbconvert_exporter": "python",
   "pygments_lexer": "ipython3",
   "version": "3.11.11"
  }
 },
 "nbformat": 4,
 "nbformat_minor": 2
}
