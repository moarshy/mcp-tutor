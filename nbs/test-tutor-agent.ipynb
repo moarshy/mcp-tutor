{
 "cells": [
  {
   "cell_type": "code",
   "execution_count": 6,
   "metadata": {},
   "outputs": [],
   "source": [
    "from tutor_agent.main import SimpleMCPTutor\n",
    "from nest_asyncio import apply\n",
    "\n",
    "apply()"
   ]
  },
  {
   "cell_type": "code",
   "execution_count": 7,
   "metadata": {},
   "outputs": [
    {
     "name": "stderr",
     "output_type": "stream",
     "text": [
      "INFO:tutor_agent.main:✅ DSPy configured with gpt-4o-mini\n",
      "INFO:tutor_agent.main:✅ SimpleMCPTutor initialized\n"
     ]
    }
   ],
   "source": [
    "tutor = SimpleMCPTutor()"
   ]
  },
  {
   "cell_type": "code",
   "execution_count": 8,
   "metadata": {},
   "outputs": [
    {
     "name": "stderr",
     "output_type": "stream",
     "text": [
      "ERROR:tutor_agent.main:❌ Error in MCP teaching method: unhandled errors in a TaskGroup (1 sub-exception)\n"
     ]
    },
    {
     "data": {
      "text/plain": [
       "TeachingResponse(response=\"I'd be happy to help you learn about MCP! Could you tell me more about what specifically interests you?\", tools_used=[], reasoning=['Fallback response due to MCP connection error'])"
      ]
     },
     "execution_count": 8,
     "metadata": {},
     "output_type": "execute_result"
    }
   ],
   "source": [
    "await tutor.teach('demo_student', 'What is MCP?')"
   ]
  },
  {
   "cell_type": "code",
   "execution_count": null,
   "metadata": {},
   "outputs": [],
   "source": []
  }
 ],
 "metadata": {
  "kernelspec": {
   "display_name": "base",
   "language": "python",
   "name": "python3"
  },
  "language_info": {
   "codemirror_mode": {
    "name": "ipython",
    "version": 3
   },
   "file_extension": ".py",
   "mimetype": "text/x-python",
   "name": "python",
   "nbconvert_exporter": "python",
   "pygments_lexer": "ipython3",
   "version": "3.11.11"
  }
 },
 "nbformat": 4,
 "nbformat_minor": 2
}
